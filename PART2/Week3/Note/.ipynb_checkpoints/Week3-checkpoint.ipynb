{
 "cells": [
  {
   "cell_type": "markdown",
   "id": "ee36cc4e",
   "metadata": {},
   "source": [
    "## 1.2 Evaluating a model 模型评估\n",
    "    Traning set and Test set"
   ]
  },
  {
   "cell_type": "markdown",
   "id": "715b3a50",
   "metadata": {},
   "source": [
    "## 1.3 Model selection and traning/cross validation/test sets 模型选择和交叉验证测试集的训练方法\n",
    "将数据分为三个数据集\n",
    "- Tranning set 训练集\n",
    "- the Cross-validation set 交叉验证集(aka the dev set)\n",
    "- Test set 测试集\n",
    "\n",
    "![img1](./img/01.png)\n",
    "\n",
    "    我们使用 the dev set 去选择使用哪种模型，用 test set 去显示模型的泛化误差"
   ]
  },
  {
   "cell_type": "markdown",
   "id": "60022203",
   "metadata": {},
   "source": [
    "## 2.1 Diagonsing bias and variance 通过偏差和方法进行诊断\n",
    "    bias : 偏差   varicance : 方差\n",
    "    \n",
    "![img2](./img/02.png)"
   ]
  },
  {
   "cell_type": "markdown",
   "id": "2bb338c1",
   "metadata": {},
   "source": [
    "## 2.2 Regularization and bias/variance 正则化和偏差/方差\n",
    "   How to choose $ \\lambda $ \n",
    "   \n",
    "跟选择的模型的方法大致相同，对于不同的$ \\lambda $值，使用 the dev set 去计算 $ J_{cv} $, 选择使$ J_{cv} $最小的 $ \\lambda $ 即可"
   ]
  },
  {
   "cell_type": "markdown",
   "id": "f07c5437",
   "metadata": {},
   "source": [
    "## 2.3 Establishing a baseline level of performance 制定一个用于性能评估的基准\n",
    "\n",
    "What is the level of error you can resaonably hope to get to?\n",
    "- Human level performance \n",
    "- Competing algorithms performance\n",
    "- Guess based on experience\n",
    "\n",
    "![img3](./img/03.png)\n"
   ]
  },
  {
   "cell_type": "markdown",
   "id": "f6ae6299",
   "metadata": {},
   "source": [
    "## 2.4 Learning curves 学习曲线\n",
    "\n",
    "- High bias : 在这种情况下，随着训练样本数量的增大，error会先增大后趋于平整，同时交叉验证错误会减小后趋于平整\n",
    "    \n",
    "    模型太简单，以至于给太多的数据，结果都不会产生很多变化\n",
    "![img4](./img/04.png)\n",
    "\n",
    "- High variance : \n",
    " \n",
    "![img5](./img/05.png)"
   ]
  },
  {
   "cell_type": "markdown",
   "id": "e769278a",
   "metadata": {},
   "source": [
    "## 2.5 Deciding what to try next revisted\n",
    "\n",
    "- High variance\n",
    "    - get more training examples\n",
    "    - try small sets of features\n",
    "    - try increasing λ\n",
    "    \n",
    "- High bias\n",
    "    - try getting additional features\n",
    "    - try adding polynomial features\n",
    "    - try decreasing λ\n"
   ]
  },
  {
   "cell_type": "markdown",
   "id": "beac2c53",
   "metadata": {},
   "source": [
    "## 2.6 Bias/Variance and NN\n",
    "- too simple model -> have high bias\n",
    "\n",
    "- too complex model -> have high variance \n",
    "\n",
    "\n",
    "Large neural networks are low bias machines\n",
    "   \n",
    "![img6](./img/06.png)\n",
    "\n",
    "    一个正则化很好的大型神经网络模型通常和小的神经网络模型做得一样好或者更好\n",
    "    \n",
    "    只有有合适的正则化，拥有一个大型的神经网络几乎是没有什么坏处的"
   ]
  },
  {
   "cell_type": "code",
   "execution_count": null,
   "id": "648fa5e9",
   "metadata": {},
   "outputs": [],
   "source": [
    "# 没有正则化的模型\n",
    "layer_1 = Dense(units = 25, activation = \"relu\")\n",
    "layer_2 = Dense(units = 15, activation = \"relu\")\n",
    "layer_3 = Dense(units = 1, activation = \"sigmoid\")\n",
    "model = Sequential([layer_1, layer_2, layer_3])\n",
    "\n",
    "# 正则化\n",
    "layer_1 = Dense(units = 25, activation = \"relu\", kernel_regularizer=L2(0.01))  #参数值是λ的值\n",
    "layer_2 = Dense(units = 15, activation = \"relu\", kernel_regularizer=L2(0.01))\n",
    "layer_3 = Dense(units = 1, activation = \"sigmoid\", kernel_regularizer=L2(0.01))\n",
    "model = Sequential([layer_1, layer_2, layer_3])"
   ]
  },
  {
   "cell_type": "markdown",
   "id": "11c56dcf",
   "metadata": {},
   "source": [
    "## 3.1 lterative loop of ML development 机器学习开发的迭代\n",
    "\n",
    "![img7](./img/07.png)"
   ]
  },
  {
   "cell_type": "markdown",
   "id": "9de5d17b",
   "metadata": {},
   "source": [
    "## 3.2 Error analysis 误差分析\n",
    "\n",
    "    "
   ]
  },
  {
   "cell_type": "markdown",
   "id": "2b3e6668",
   "metadata": {},
   "source": [
    "## 3.3 Adding data 添加更多数据\n",
    "\n",
    "添加更多分析表明会对模型有帮助的数据\n",
    "\n",
    "Data augmentation\n",
    "\n",
    "    数据增强的一个技巧是：你对数据所做的修改或扭曲应该代表测试集中的噪声或失真类型\n",
    "\n",
    "\n",
    "Data synthesis\n",
    "   \n",
    "    从零开始创造新的数据，而不是在现有数据上修改\n",
    "    \n",
    "![img8](./img/08.png)"
   ]
  },
  {
   "cell_type": "markdown",
   "id": "9bffd8f5",
   "metadata": {},
   "source": [
    "## 3.4 Transfer learning: using data from a different task 迁移学习\n",
    "\n",
    "使用已经训练好的神经网络模型的参数，修改输出层的参数，训练输出层\n",
    "\n",
    "![img9](./img/09.png)\n",
    "\n",
    "预训练模型 例如GPT3,BERT"
   ]
  },
  {
   "cell_type": "markdown",
   "id": "1515233d",
   "metadata": {},
   "source": [
    "## 3.5 Full cycle of machine learning project 机器学习项目的完整周期\n",
    "\n",
    "![img10](./img/10.png)"
   ]
  },
  {
   "cell_type": "markdown",
   "id": "5dd5f754",
   "metadata": {},
   "source": [
    "本周内容到此 "
   ]
  },
  {
   "cell_type": "code",
   "execution_count": null,
   "id": "42b70f49",
   "metadata": {},
   "outputs": [],
   "source": []
  }
 ],
 "metadata": {
  "kernelspec": {
   "display_name": "tensorflow",
   "language": "python",
   "name": "tensorflow"
  },
  "language_info": {
   "codemirror_mode": {
    "name": "ipython",
    "version": 3
   },
   "file_extension": ".py",
   "mimetype": "text/x-python",
   "name": "python",
   "nbconvert_exporter": "python",
   "pygments_lexer": "ipython3",
   "version": "3.10.9"
  }
 },
 "nbformat": 4,
 "nbformat_minor": 5
}
