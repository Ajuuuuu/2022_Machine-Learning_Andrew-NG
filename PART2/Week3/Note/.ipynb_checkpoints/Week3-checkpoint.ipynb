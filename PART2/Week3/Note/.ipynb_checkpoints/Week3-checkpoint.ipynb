{
 "cells": [
  {
   "cell_type": "markdown",
   "id": "ee36cc4e",
   "metadata": {},
   "source": [
    "## 1.2 Evaluating a model 模型评估\n",
    "    Traning set and Test set"
   ]
  },
  {
   "cell_type": "markdown",
   "id": "715b3a50",
   "metadata": {},
   "source": [
    "## 1.3 Model selection and traning/cross validation/test sets 模型选择和交叉验证测试集的训练方法\n",
    "将数据分为三个数据集\n",
    "- Tranning set 训练集\n",
    "- the Cross-validation set 交叉验证集(aka the dev set)\n",
    "- Test set 测试集\n",
    "\n",
    "![img1](./img/01.png)\n",
    "\n",
    "    我们使用 the dev set 去选择使用哪种模型，用 test set 去显示模型的泛化误差"
   ]
  },
  {
   "cell_type": "markdown",
   "id": "60022203",
   "metadata": {},
   "source": [
    "## 2.1 Diagonsing bias and variance 通过偏差和方法进行诊断\n",
    "    bias : 偏差   varicance : 方差\n",
    "    \n",
    "![img2](./img/02.png)"
   ]
  },
  {
   "cell_type": "markdown",
   "id": "2bb338c1",
   "metadata": {},
   "source": [
    "## 2.2 Regularization and bias/variance 正则化和偏差/方差\n",
    "   How to choose $ \\lambda $ \n",
    "   \n",
    "跟选择的模型的方法大致相同，对于不同的$ \\lambda $值，使用 the dev set 去计算 $ J_{cv} $, 选择使$ J_{cv} $最小的 $ \\lambda $ 即可"
   ]
  },
  {
   "cell_type": "markdown",
   "id": "f07c5437",
   "metadata": {},
   "source": [
    "## 2.3 Establishing a baseline level of performance 制定一个用于性能评估的基准\n",
    "\n",
    "What is the level of error you can resaonably hope to get to?\n",
    "- Human level performance \n",
    "- Competing algorithms performance\n",
    "- Guess based on experience\n",
    "\n",
    "![img3](./img/03.png)\n"
   ]
  },
  {
   "cell_type": "markdown",
   "id": "f6ae6299",
   "metadata": {},
   "source": [
    "## 2.4 Learning curves 学习曲线\n"
   ]
  }
 ],
 "metadata": {
  "kernelspec": {
   "display_name": "tensorflow",
   "language": "python",
   "name": "tensorflow"
  },
  "language_info": {
   "codemirror_mode": {
    "name": "ipython",
    "version": 3
   },
   "file_extension": ".py",
   "mimetype": "text/x-python",
   "name": "python",
   "nbconvert_exporter": "python",
   "pygments_lexer": "ipython3",
   "version": "3.10.10"
  }
 },
 "nbformat": 4,
 "nbformat_minor": 5
}
