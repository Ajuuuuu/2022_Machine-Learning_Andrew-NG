{
 "cells": [
  {
   "cell_type": "markdown",
   "id": "e45b81a4",
   "metadata": {},
   "source": [
    "## 2.1 什么是机器学习\n",
    "    监督学习\n",
    "    无监督学习"
   ]
  },
  {
   "cell_type": "markdown",
   "id": "fa17a6ad",
   "metadata": {},
   "source": [
    "## 2.2 Supervised Learning 监督学习\n",
    "    监督学习需要对训练数据进行标记，以表示该数据的正确输出。算法通过对训练数据的学习来构建一个模型，以便对未知数据进行预测。监督学习的主要任务是回归或分类。\n",
    "   ### 回归是一种机器学习的任务，它的目的是预测一个连续的标签（例如价格）。回归算法通过学习输入特征与标签的关系，来生成一个连续的输出。\n",
    "   ### 分类是一种机器学习任务，目的是预测离散的标签（例如邮件是垃圾邮件还是非垃圾邮件）。分类算法通过学习输入特征与标签的关系，来生成一个离散的输出。"
   ]
  },
  {
   "cell_type": "markdown",
   "id": "7d60b9df",
   "metadata": {},
   "source": [
    "## 2.3 Unsupervised Learning 无监督学习\n",
    "    无监督学习是一种机器学习方法，它不需要明确的目标变量或标签，而是通过从数据中提取有用信息来学习模型。 无监督学习的目的是找出数据之间的关系，并对数据进行分组，从而生成一个无监督的数据模型。\n"
   ]
  },
  {
   "cell_type": "markdown",
   "id": "cff5bbd2",
   "metadata": {},
   "source": [
    "## 3.1 Linear Regression 线性回归\n",
    "    training set:训练集\n",
    "    x = \"input\" variable or feature\n",
    "    y = \"output\" variable or \"target\" variable\n",
    "    m = number of training examples"
   ]
  },
  {
   "cell_type": "markdown",
   "id": "046042b6",
   "metadata": {},
   "source": [
    "## 3.2 线性回归part2\n",
    "    training set + learning algorithm -> function\n",
    "    the function will output y_hat with a new x\n",
    "    \n",
    "    But how to represent the function?\n",
    "### ${f}_{w,b}=wx+b $ \n",
    "    \n",
    "     do the optional lab: Model Representation"
   ]
  },
  {
   "cell_type": "markdown",
   "id": "3f94d78f",
   "metadata": {},
   "source": [
    "## 3.3 Cost Function 代价函数"
   ]
  },
  {
   "cell_type": "code",
   "execution_count": null,
   "id": "2ef3d760",
   "metadata": {},
   "outputs": [],
   "source": []
  }
 ],
 "metadata": {
  "kernelspec": {
   "display_name": "DL",
   "language": "python",
   "name": "dl"
  },
  "language_info": {
   "codemirror_mode": {
    "name": "ipython",
    "version": 3
   },
   "file_extension": ".py",
   "mimetype": "text/x-python",
   "name": "python",
   "nbconvert_exporter": "python",
   "pygments_lexer": "ipython3",
   "version": "3.7.12"
  }
 },
 "nbformat": 4,
 "nbformat_minor": 5
}
