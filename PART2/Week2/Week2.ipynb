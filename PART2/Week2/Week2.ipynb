{
 "cells": [
  {
   "cell_type": "markdown",
   "id": "17050d45",
   "metadata": {},
   "source": [
    "## 占位"
   ]
  },
  {
   "cell_type": "code",
   "execution_count": null,
   "id": "0483bca5",
   "metadata": {},
   "outputs": [],
   "source": []
  }
 ],
 "metadata": {
  "kernelspec": {
   "display_name": "tensorflow",
   "language": "python",
   "name": "tensorflow"
  },
  "language_info": {
   "codemirror_mode": {
    "name": "ipython",
    "version": 3
   },
   "file_extension": ".py",
   "mimetype": "text/x-python",
   "name": "python",
   "nbconvert_exporter": "python",
   "pygments_lexer": "ipython3",
   "version": "3.10.10"
  }
 },
 "nbformat": 4,
 "nbformat_minor": 5
}
