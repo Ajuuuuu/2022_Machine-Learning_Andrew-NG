{
 "cells": [
  {
   "cell_type": "markdown",
   "id": "701a40eb",
   "metadata": {},
   "source": [
    "## 1.2 Neurons and the brain 神经元和大脑\n",
    "    Origins: Algorithms that try to mimic the brain\n",
    "    \n",
    "    With traditional machine-learning algorithms, such as logistic regression and linear regression, even you fed those algorithms more data, it was very diffcult to make the preformance to keep on going up.\n",
    "    \n",
    "    GPU if powerful for DL"
   ]
  },
  {
   "cell_type": "markdown",
   "id": "758f2856",
   "metadata": {},
   "source": [
    "## 1.3 Demand Prediction 需求预测\n",
    "    activation 激活\n",
    "    \n",
    "    a logistic regression can be considered as a single neuron\n",
    "    and it's a very simple neuron network\n",
    "    \n",
    "![img1](./img/01.png)\n",
    "\n",
    "    the input layer, hidden layer and output layer\n",
    "    \n",
    "    multilayer perceptron 多层感知机 也就是一种神经网络"
   ]
  },
  {
   "cell_type": "markdown",
   "id": "69c14213",
   "metadata": {},
   "source": [
    "## 1.4 Eample Recognizing Images 举例-图像感知\n",
    "![img2](./img/02.png)"
   ]
  },
  {
   "cell_type": "markdown",
   "id": "4e5d0a3b",
   "metadata": {},
   "source": [
    "## 2.1 Neural network layer 神经网络中的网络层\n",
    "    一层神经元网络\n",
    "![img3](./img/03.png)\n",
    "![img4](./img/04.png)\n",
    "![img5](./img/05.png)"
   ]
  },
  {
   "cell_type": "markdown",
   "id": "ff5425c0",
   "metadata": {},
   "source": [
    "## 2.2 More complex neural networks 更复杂的神经网络\n",
    "    我们说神经网络有多少层时，一般只计数隐藏层与输出层，不计入输入层\n",
    "    \n",
    "    Activation Function 激活函数\n",
    "    Activation Function（激活函数）是神经网络中的一种函数，用于在神经元接收输入后产生输出。\n",
    "    \n",
    "    Now we know only one type of activation function -- sigmoid function\n",
    "    \n",
    "![img6](./img/06.png)\n",
    "\n",
    "    And we also call the input \n",
    "$$ \\vec{X} = \\vec{a}^{[0]} $$"
   ]
  },
  {
   "cell_type": "markdown",
   "id": "9f4e3c05",
   "metadata": {},
   "source": [
    "## 2.3 Inference:making predictions (forward propagation) 神经网络向前传播\n",
    "    前向传播（Forward Propagation）是神经网络中的一种计算方法，它将输入数据通过多个神经元进行逐层处理，并得到最终的输出结果。\n",
    "    方向是从输入层开始从左到右一层一层地传播，使每层的输入都是前一层的输出，通常随着越来越靠近输出层，每层的神经元数量会越来越少。"
   ]
  },
  {
   "cell_type": "code",
   "execution_count": null,
   "id": "33886ca5",
   "metadata": {},
   "outputs": [],
   "source": []
  }
 ],
 "metadata": {
  "kernelspec": {
   "display_name": "tensorflow",
   "language": "python",
   "name": "tensorflow"
  },
  "language_info": {
   "codemirror_mode": {
    "name": "ipython",
    "version": 3
   },
   "file_extension": ".py",
   "mimetype": "text/x-python",
   "name": "python",
   "nbconvert_exporter": "python",
   "pygments_lexer": "ipython3",
   "version": "3.10.10"
  }
 },
 "nbformat": 4,
 "nbformat_minor": 5
}
